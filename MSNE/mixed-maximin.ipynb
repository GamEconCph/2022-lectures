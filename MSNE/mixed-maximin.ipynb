{
 "cells": [
  {
   "cell_type": "markdown",
   "metadata": {},
   "source": [
    "# Mixed strategy Nash EQ with maxmin/linprog\n",
    "\n",
    "It is possible to solve for the mixed strategy Nash EQ in a zero sum game using linear programming by using duality and recasting the problem. "
   ]
  },
  {
   "cell_type": "code",
   "execution_count": 1,
   "metadata": {},
   "outputs": [],
   "source": [
    "import numpy as np \n",
    "import nashpy # install using \"pip install nashpy\"\n",
    "import pandas as pd \n",
    "import matplotlib.pyplot as plt\n",
    "from scipy.optimize import linprog "
   ]
  },
  {
   "cell_type": "code",
   "execution_count": 2,
   "metadata": {},
   "outputs": [],
   "source": [
    "def print_payoffs(U, A): \n",
    "    '''print_payoffs: Nicely formatted for a 2*2 game \n",
    "        INPUTS: \n",
    "            U1,U2: (matrices, dim=na1*na2) Payoffs \n",
    "            A1: (list of str, len=na1) List of actions of player 1\n",
    "            A2: (list of str, len=na2) list of actions of player 2\n",
    "        \n",
    "        OUTPUT:\n",
    "            tab: pandas dataframe, na1*na2 with payoff tuples \n",
    "    '''\n",
    "    assert len(U) == 2, f'only implemented for 2-player games'\n",
    "    assert len(A) == 2, f'only implemented for 2-player games'\n",
    "\n",
    "    U1 = U[0]\n",
    "    U2 = U[1]\n",
    "    A1 = A[0]\n",
    "    A2 = A[1]\n",
    "\n",
    "    na1,na2 = U1.shape\n",
    "    assert len(A1) == na1\n",
    "    assert len(A2) == na2\n",
    "\n",
    "    # \"matrix\" of tuples \n",
    "    X = [[(U1[r,c],U2[r,c]) for c in range(na2)] for r in range(na1)]\n",
    "\n",
    "    # dataframe version \n",
    "    tab = pd.DataFrame(X, columns=A2, index=A1)\n",
    "    \n",
    "    return tab "
   ]
  },
  {
   "cell_type": "code",
   "execution_count": 3,
   "metadata": {},
   "outputs": [],
   "source": [
    "def solve_zerosum_with_linprog(U):\n",
    "    '''solve_zerosum_with_linprog(): Solve a zero sum game using linear programming\n",
    "    \n",
    "        INPUT: U (k*k square matrix), payoffs in zero sum game (opponent gets -U.T)\n",
    "        OUTPUT: alpha (k-vector) of probability weights for each action (the symmetric equilibrium)\n",
    "    '''\n",
    "    k, k2 = U.shape\n",
    "    assert k == k2, f'Input matrix must be square, got {k}*{k2}'\n",
    "\n",
    "    oo = np.zeros((1,k))\n",
    "    ii = np.ones((1,k))\n",
    "\n",
    "    # objective: c = [-1, 0, 0, ..., 0]\n",
    "    c = np.insert(oo, 0, -1.0) # insert -1 in front (pos = index 0)\n",
    "    \n",
    "    # inequality constraints A*x <= b\n",
    "    # top = [ 1 ...\n",
    "    #         1 -1*A.Tl\n",
    "    #         1  ...  ]\n",
    "    # bot = [ 0 -1 0 0 \n",
    "    #         0 0 -1 0 \n",
    "    #         0 0 0 -1]\n",
    "    top  = np.hstack( (ii.T, -1*U.T) )\n",
    "    bot  = np.hstack( (oo.T, -1*np.eye(k)) )\n",
    "    A_ub = np.vstack((top, bot))\n",
    "    \n",
    "    b_ub = np.zeros((1, 2*k))\n",
    "    b_ub = np.matrix(b_ub)\n",
    "    \n",
    "    # contraints Ax = b\n",
    "    # A = [0, 1, 1, ..., 1]\n",
    "    A = np.matrix(np.hstack((0, np.ones((k,)))))\n",
    "    b = 1.0 # just one condition so scalar \n",
    "\n",
    "    # v and alpha must be non-negative\n",
    "    bounds = [(0,None) for i in range(k+1)]\n",
    "\n",
    "    # call the solver\n",
    "    sol = linprog(c=c, A_ub=A_ub, b_ub=b_ub, A_eq=A, b_eq=b)\n",
    "    \n",
    "    # remove the first element: just return the Nash EQ \n",
    "    alpha = sol.x[1:]\n",
    "    return alpha"
   ]
  },
  {
   "cell_type": "markdown",
   "metadata": {},
   "source": [
    "# Sten saks papir"
   ]
  },
  {
   "cell_type": "code",
   "execution_count": 4,
   "metadata": {},
   "outputs": [],
   "source": [
    "U1 = np.array([[0,1,-1], [-1,0,1], [1,-1,0]])\n",
    "U2 = -U1\n",
    "A1 = ['sten', 'saks','papir']\n",
    "A2 = A1"
   ]
  },
  {
   "cell_type": "code",
   "execution_count": 5,
   "metadata": {},
   "outputs": [
    {
     "data": {
      "text/html": [
       "<div>\n",
       "<style scoped>\n",
       "    .dataframe tbody tr th:only-of-type {\n",
       "        vertical-align: middle;\n",
       "    }\n",
       "\n",
       "    .dataframe tbody tr th {\n",
       "        vertical-align: top;\n",
       "    }\n",
       "\n",
       "    .dataframe thead th {\n",
       "        text-align: right;\n",
       "    }\n",
       "</style>\n",
       "<table border=\"1\" class=\"dataframe\">\n",
       "  <thead>\n",
       "    <tr style=\"text-align: right;\">\n",
       "      <th></th>\n",
       "      <th>sten</th>\n",
       "      <th>saks</th>\n",
       "      <th>papir</th>\n",
       "    </tr>\n",
       "  </thead>\n",
       "  <tbody>\n",
       "    <tr>\n",
       "      <th>sten</th>\n",
       "      <td>(0, 0)</td>\n",
       "      <td>(1, -1)</td>\n",
       "      <td>(-1, 1)</td>\n",
       "    </tr>\n",
       "    <tr>\n",
       "      <th>saks</th>\n",
       "      <td>(-1, 1)</td>\n",
       "      <td>(0, 0)</td>\n",
       "      <td>(1, -1)</td>\n",
       "    </tr>\n",
       "    <tr>\n",
       "      <th>papir</th>\n",
       "      <td>(1, -1)</td>\n",
       "      <td>(-1, 1)</td>\n",
       "      <td>(0, 0)</td>\n",
       "    </tr>\n",
       "  </tbody>\n",
       "</table>\n",
       "</div>"
      ],
      "text/plain": [
       "          sten     saks    papir\n",
       "sten    (0, 0)  (1, -1)  (-1, 1)\n",
       "saks   (-1, 1)   (0, 0)  (1, -1)\n",
       "papir  (1, -1)  (-1, 1)   (0, 0)"
      ]
     },
     "execution_count": 5,
     "metadata": {},
     "output_type": "execute_result"
    }
   ],
   "source": [
    "print_payoffs([U1, U2], [A1, A2])"
   ]
  },
  {
   "cell_type": "code",
   "execution_count": 6,
   "metadata": {},
   "outputs": [
    {
     "data": {
      "text/plain": [
       "[(array([0.33333333, 0.33333333, 0.33333333]),\n",
       "  array([0.33333333, 0.33333333, 0.33333333]))]"
      ]
     },
     "execution_count": 6,
     "metadata": {},
     "output_type": "execute_result"
    }
   ],
   "source": [
    "sol = nashpy.Game(U1,U2).support_enumeration()\n",
    "list(sol)"
   ]
  },
  {
   "cell_type": "markdown",
   "metadata": {},
   "source": [
    "Solve with linear programming"
   ]
  },
  {
   "cell_type": "code",
   "execution_count": 7,
   "metadata": {},
   "outputs": [
    {
     "data": {
      "text/plain": [
       "array([0.33333333, 0.33333333, 0.33333333])"
      ]
     },
     "execution_count": 7,
     "metadata": {},
     "output_type": "execute_result"
    }
   ],
   "source": [
    "sol = solve_zerosum_with_linprog(U1)\n",
    "sol"
   ]
  },
  {
   "cell_type": "markdown",
   "metadata": {},
   "source": [
    "An asymmetric zero sum game"
   ]
  },
  {
   "cell_type": "markdown",
   "metadata": {},
   "source": [
    "solve with `nasphy`"
   ]
  },
  {
   "cell_type": "code",
   "execution_count": 8,
   "metadata": {},
   "outputs": [
    {
     "name": "stdout",
     "output_type": "stream",
     "text": [
      "The slowest run took 4.34 times longer than the fastest. This could mean that an intermediate result is being cached.\n",
      "18.7 ms ± 9.87 ms per loop (mean ± std. dev. of 7 runs, 10 loops each)\n"
     ]
    }
   ],
   "source": [
    "%%timeit\n",
    "sol = nashpy.Game(U1,U2).support_enumeration()\n",
    "list(sol)"
   ]
  },
  {
   "cell_type": "markdown",
   "metadata": {},
   "source": [
    "Solving with `maximin` "
   ]
  },
  {
   "cell_type": "code",
   "execution_count": 9,
   "metadata": {},
   "outputs": [
    {
     "name": "stdout",
     "output_type": "stream",
     "text": [
      "4.49 ms ± 728 µs per loop (mean ± std. dev. of 7 runs, 100 loops each)\n"
     ]
    }
   ],
   "source": [
    "%%timeit \n",
    "sol = solve_zerosum_with_linprog(U1)\n",
    "sol"
   ]
  },
  {
   "cell_type": "markdown",
   "metadata": {},
   "source": [
    "# A larger game\n",
    "\n",
    "Wi simply copy the came for times "
   ]
  },
  {
   "cell_type": "code",
   "execution_count": 10,
   "metadata": {},
   "outputs": [
    {
     "data": {
      "text/html": [
       "<div>\n",
       "<style scoped>\n",
       "    .dataframe tbody tr th:only-of-type {\n",
       "        vertical-align: middle;\n",
       "    }\n",
       "\n",
       "    .dataframe tbody tr th {\n",
       "        vertical-align: top;\n",
       "    }\n",
       "\n",
       "    .dataframe thead th {\n",
       "        text-align: right;\n",
       "    }\n",
       "</style>\n",
       "<table border=\"1\" class=\"dataframe\">\n",
       "  <thead>\n",
       "    <tr style=\"text-align: right;\">\n",
       "      <th></th>\n",
       "      <th>sten0</th>\n",
       "      <th>saks0</th>\n",
       "      <th>papir0</th>\n",
       "      <th>sten1</th>\n",
       "      <th>saks1</th>\n",
       "      <th>papir1</th>\n",
       "    </tr>\n",
       "  </thead>\n",
       "  <tbody>\n",
       "    <tr>\n",
       "      <th>sten0</th>\n",
       "      <td>(0, 0)</td>\n",
       "      <td>(1, -1)</td>\n",
       "      <td>(-1, 1)</td>\n",
       "      <td>(0, 0)</td>\n",
       "      <td>(1, -1)</td>\n",
       "      <td>(-1, 1)</td>\n",
       "    </tr>\n",
       "    <tr>\n",
       "      <th>saks0</th>\n",
       "      <td>(-1, 1)</td>\n",
       "      <td>(0, 0)</td>\n",
       "      <td>(1, -1)</td>\n",
       "      <td>(-1, 1)</td>\n",
       "      <td>(0, 0)</td>\n",
       "      <td>(1, -1)</td>\n",
       "    </tr>\n",
       "    <tr>\n",
       "      <th>papir0</th>\n",
       "      <td>(1, -1)</td>\n",
       "      <td>(-1, 1)</td>\n",
       "      <td>(0, 0)</td>\n",
       "      <td>(1, -1)</td>\n",
       "      <td>(-1, 1)</td>\n",
       "      <td>(0, 0)</td>\n",
       "    </tr>\n",
       "    <tr>\n",
       "      <th>sten1</th>\n",
       "      <td>(0, 0)</td>\n",
       "      <td>(1, -1)</td>\n",
       "      <td>(-1, 1)</td>\n",
       "      <td>(0, 0)</td>\n",
       "      <td>(1, -1)</td>\n",
       "      <td>(-1, 1)</td>\n",
       "    </tr>\n",
       "    <tr>\n",
       "      <th>saks1</th>\n",
       "      <td>(-1, 1)</td>\n",
       "      <td>(0, 0)</td>\n",
       "      <td>(1, -1)</td>\n",
       "      <td>(-1, 1)</td>\n",
       "      <td>(0, 0)</td>\n",
       "      <td>(1, -1)</td>\n",
       "    </tr>\n",
       "    <tr>\n",
       "      <th>papir1</th>\n",
       "      <td>(1, -1)</td>\n",
       "      <td>(-1, 1)</td>\n",
       "      <td>(0, 0)</td>\n",
       "      <td>(1, -1)</td>\n",
       "      <td>(-1, 1)</td>\n",
       "      <td>(0, 0)</td>\n",
       "    </tr>\n",
       "  </tbody>\n",
       "</table>\n",
       "</div>"
      ],
      "text/plain": [
       "          sten0    saks0   papir0    sten1    saks1   papir1\n",
       "sten0    (0, 0)  (1, -1)  (-1, 1)   (0, 0)  (1, -1)  (-1, 1)\n",
       "saks0   (-1, 1)   (0, 0)  (1, -1)  (-1, 1)   (0, 0)  (1, -1)\n",
       "papir0  (1, -1)  (-1, 1)   (0, 0)  (1, -1)  (-1, 1)   (0, 0)\n",
       "sten1    (0, 0)  (1, -1)  (-1, 1)   (0, 0)  (1, -1)  (-1, 1)\n",
       "saks1   (-1, 1)   (0, 0)  (1, -1)  (-1, 1)   (0, 0)  (1, -1)\n",
       "papir1  (1, -1)  (-1, 1)   (0, 0)  (1, -1)  (-1, 1)   (0, 0)"
      ]
     },
     "execution_count": 10,
     "metadata": {},
     "output_type": "execute_result"
    }
   ],
   "source": [
    "U1 = np.tile(U1, (2,2)) # copy twice in both x and y direction\n",
    "U2 = -U1\n",
    "\n",
    "A1 = ['sten', 'saks','papir']\n",
    "A1 = [f'{a}{i}' for i in range(2) for a in A1 ]\n",
    "\n",
    "print_payoffs([U1, U2], [A1, A1])"
   ]
  },
  {
   "cell_type": "markdown",
   "metadata": {},
   "source": [
    "solve with `nasphy` (solution not actually stored when we use `timeit`) "
   ]
  },
  {
   "cell_type": "code",
   "execution_count": 11,
   "metadata": {},
   "outputs": [
    {
     "name": "stderr",
     "output_type": "stream",
     "text": [
      "/Users/mrz577/opt/anaconda3/lib/python3.8/site-packages/nashpy/algorithms/support_enumeration.py:196: RuntimeWarning: \n",
      "An even number of (28) equilibria was returned. This\n",
      "indicates that the game is degenerate. Consider using another algorithm\n",
      "to investigate.\n",
      "                  \n",
      "  warnings.warn(warning, RuntimeWarning)\n"
     ]
    },
    {
     "name": "stdout",
     "output_type": "stream",
     "text": [
      "1.09 s ± 89.7 ms per loop (mean ± std. dev. of 7 runs, 1 loop each)\n"
     ]
    }
   ],
   "source": [
    "%%timeit\n",
    "sol = nashpy.Game(U1,U2).support_enumeration()\n",
    "list(sol) # we need to materialize the solution for computation to take place"
   ]
  },
  {
   "cell_type": "markdown",
   "metadata": {},
   "source": [
    "Solving with `maximin` "
   ]
  },
  {
   "cell_type": "code",
   "execution_count": 12,
   "metadata": {},
   "outputs": [
    {
     "name": "stdout",
     "output_type": "stream",
     "text": [
      "4.58 ms ± 770 µs per loop (mean ± std. dev. of 7 runs, 100 loops each)\n"
     ]
    }
   ],
   "source": [
    "%%timeit \n",
    "sol = solve_zerosum_with_linprog(U1)\n",
    "sol"
   ]
  }
 ],
 "metadata": {
  "kernelspec": {
   "display_name": "Python 3",
   "language": "python",
   "name": "python3"
  },
  "language_info": {
   "codemirror_mode": {
    "name": "ipython",
    "version": 3
   },
   "file_extension": ".py",
   "mimetype": "text/x-python",
   "name": "python",
   "nbconvert_exporter": "python",
   "pygments_lexer": "ipython3",
   "version": "3.8.2"
  }
 },
 "nbformat": 4,
 "nbformat_minor": 4
}
