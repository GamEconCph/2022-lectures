{
 "cells": [
  {
   "cell_type": "markdown",
   "metadata": {},
   "source": [
    "# Hearthstone example"
   ]
  },
  {
   "cell_type": "code",
   "execution_count": 1,
   "metadata": {},
   "outputs": [],
   "source": [
    "import numpy as np \n",
    "import pandas as pd \n",
    "import seaborn as sns\n",
    "import matplotlib.pyplot as plt\n",
    "from scipy.optimize import linprog\n",
    "\n",
    "import nashpy"
   ]
  },
  {
   "cell_type": "code",
   "execution_count": 2,
   "metadata": {},
   "outputs": [],
   "source": [
    "def print_payoffs(U, A): \n",
    "    '''print_payoffs: Nicely formatted for a 2*2 game \n",
    "        INPUTS: \n",
    "            U1,U2: (matrices, dim=na1*na2) Payoffs \n",
    "            A1: (list of str, len=na1) List of actions of player 1\n",
    "            A2: (list of str, len=na2) list of actions of player 2\n",
    "        \n",
    "        OUTPUT:\n",
    "            tab: pandas dataframe, na1*na2 with payoff tuples \n",
    "    '''\n",
    "    assert len(U) == 2, f'only implemented for 2-player games'\n",
    "    assert len(A) == 2, f'only implemented for 2-player games'\n",
    "\n",
    "    U1 = U[0]\n",
    "    U2 = U[1]\n",
    "    A1 = A[0]\n",
    "    A2 = A[1]\n",
    "\n",
    "    na1,na2 = U1.shape\n",
    "    assert len(A1) == na1\n",
    "    assert len(A2) == na2\n",
    "\n",
    "    # \"matrix\" of tuples \n",
    "    X = [[(U1[r,c],U2[r,c]) for c in range(na2)] for r in range(na1)]\n",
    "\n",
    "    # dataframe version \n",
    "    tab = pd.DataFrame(X, columns=A2, index=A1)\n",
    "    \n",
    "    return tab "
   ]
  },
  {
   "cell_type": "code",
   "execution_count": 3,
   "metadata": {},
   "outputs": [],
   "source": [
    "def solve_zerosum_with_linprog(U):\n",
    "    '''solve_zerosum_with_linprog(): Solve a zero sum game using linear programming\n",
    "    \n",
    "        INPUT: U (k*k square matrix), payoffs in zero sum game (opponent gets -U.T)\n",
    "        OUTPUT: alpha (k-vector) of probability weights for each action (the symmetric equilibrium)\n",
    "    '''\n",
    "    k, k2 = U.shape\n",
    "    assert k == k2, f'Input matrix must be square, got {k}*{k2}'\n",
    "\n",
    "    oo = np.zeros((1,k))\n",
    "    ii = np.ones((1,k))\n",
    "\n",
    "    # objective: c = [-1, 0, 0, ..., 0]\n",
    "    c = np.insert(oo, 0, -1.0) # insert -1 in front (pos = index 0)\n",
    "    \n",
    "    # inequality constraints A*x <= b\n",
    "    # top = [ 1 ...\n",
    "    #         1 -1*A.Tl\n",
    "    #         1  ...  ]\n",
    "    # bot = [ 0 -1 0 0 \n",
    "    #         0 0 -1 0 \n",
    "    #         0 0 0 -1]\n",
    "    top  = np.hstack( (ii.T, -1*U.T) ) # LHS of v - U <= 0\n",
    "    bot  = np.hstack( (oo.T, -1*np.eye(k)) ) # LHS of -alpha_k <= 0 for all k \n",
    "    A_ub = np.vstack((top, bot))\n",
    "    \n",
    "    b_ub = np.zeros((1, 2*k)) # RHS of [v - U <= 0 , -alpha_k <= 0] \n",
    "    b_ub = np.matrix(b_ub) \n",
    "    \n",
    "    # contraints Ax = b\n",
    "    # A = [0, 1, 1, ..., 1]\n",
    "    A = np.matrix(np.hstack((0, np.ones((k,)))))\n",
    "    b = 1.0 # just one condition so scalar \n",
    "\n",
    "    # v and alpha must be non-negative\n",
    "    bounds = [(0,None) for i in range(k+1)]\n",
    "\n",
    "    # call the solver\n",
    "    sol = linprog(c=c, A_ub=A_ub, b_ub=b_ub, A_eq=A, b_eq=b)\n",
    "    \n",
    "    # remove the first element: just return the Nash EQ \n",
    "    alpha = sol.x[1:]\n",
    "    return alpha"
   ]
  },
  {
   "cell_type": "markdown",
   "metadata": {},
   "source": [
    "# Begin\n",
    "\n",
    "Payoffs come from the website, TempoStorm, scraped by an anonymous user. "
   ]
  },
  {
   "cell_type": "code",
   "execution_count": 4,
   "metadata": {},
   "outputs": [],
   "source": [
    "decks = [\"Mid-range Druid\", \"Token Druid\", \"Mid-range Hunter\",\n",
    "         \"Freeze Mage\", \"Mech Mage\", \"Secret Paladin\", \n",
    "         \"Dragon Priest\", \"Handlock\", \"Demon Handlock\", \n",
    "         \"Zoolock\", \"Control Warrior\", \"Patron Warrior\"]\n",
    "\n",
    "# fake play rates (unable to find historical data)\n",
    "playrates = np.array([10., 8., 5., 3., 3., 2., 1.3, 1.3, 1.1, 0.9, 0.5, 0.4])\n",
    "playrates = playrates / playrates.sum()\n",
    "\n",
    "# winrates for each deck from the tempostorm website\n",
    "winrates = np.array([\n",
    "            [50,50,45,75,55,45,40,65,60,35,70,60],\n",
    "            [50,50,40,60,55,40,35,55,60,40,75,40],\n",
    "            [55,60,50,35,40,35,40,50,65,45,55,30],\n",
    "            [25,40,65,50,30,70,70,70,70,80,10,20],\n",
    "            [45,45,60,70,50,70,40,60,40,30,35,55],\n",
    "            [55,60,65,30,30,50,50,45,35,55,60,30],\n",
    "            [60,65,60,30,60,50,50,20,25,70,40,50],\n",
    "            [35,45,50,30,40,55,80,50,45,65,60,55],\n",
    "            [40,40,35,30,60,65,75,55,50,60,60,65],\n",
    "            [65,60,55,20,70,45,30,35,40,50,60,40],\n",
    "            [30,25,45,90,65,40,60,40,40,40,50,60],\n",
    "            [40,60,70,80,45,70,50,45,35,60,40,50]]).astype(float)"
   ]
  },
  {
   "cell_type": "code",
   "execution_count": 5,
   "metadata": {},
   "outputs": [],
   "source": [
    "U1 = winrates \n",
    "U2 = -winrates \n",
    "U = [U1, U2]\n",
    "A = [decks, decks]"
   ]
  },
  {
   "cell_type": "markdown",
   "metadata": {},
   "source": [
    "**Expected utility** Calculated using simple linear algebra: \n",
    "\\begin{align*}\n",
    "\\mathbb{E}[u^1(a_\\ell^1, \\alpha^{2})] &= \\sum_k=1^K \\alpha^{2}_k u^1(a_\\ell^1, a_k^2) \n",
    "\\\\ &= U^1 \\alpha^2\n",
    "\\end{align*}\n",
    "To compute the same for Player 2, \n",
    "$$ \\mathbb{E}[(u^2(\\alpha^1, a_\\ell^2)] = \\alpha^{1\\prime} U^2 $$\n"
   ]
  },
  {
   "cell_type": "code",
   "execution_count": 6,
   "metadata": {},
   "outputs": [],
   "source": [
    "Eu1 = U1 @ playrates/100."
   ]
  },
  {
   "cell_type": "code",
   "execution_count": 7,
   "metadata": {},
   "outputs": [],
   "source": [
    "Eu2 = playrates/100. @ U2 "
   ]
  },
  {
   "cell_type": "code",
   "execution_count": 8,
   "metadata": {},
   "outputs": [
    {
     "data": {
      "text/html": [
       "<div>\n",
       "<style scoped>\n",
       "    .dataframe tbody tr th:only-of-type {\n",
       "        vertical-align: middle;\n",
       "    }\n",
       "\n",
       "    .dataframe tbody tr th {\n",
       "        vertical-align: top;\n",
       "    }\n",
       "\n",
       "    .dataframe thead th {\n",
       "        text-align: right;\n",
       "    }\n",
       "</style>\n",
       "<table border=\"1\" class=\"dataframe\">\n",
       "  <thead>\n",
       "    <tr style=\"text-align: right;\">\n",
       "      <th></th>\n",
       "      <th>deck</th>\n",
       "      <th>Eu1</th>\n",
       "      <th>Eu2</th>\n",
       "    </tr>\n",
       "  </thead>\n",
       "  <tbody>\n",
       "    <tr>\n",
       "      <th>0</th>\n",
       "      <td>Mid-range Druid</td>\n",
       "      <td>0.520000</td>\n",
       "      <td>-0.480000</td>\n",
       "    </tr>\n",
       "    <tr>\n",
       "      <th>1</th>\n",
       "      <td>Token Druid</td>\n",
       "      <td>0.492466</td>\n",
       "      <td>-0.507534</td>\n",
       "    </tr>\n",
       "    <tr>\n",
       "      <th>2</th>\n",
       "      <td>Mid-range Hunter</td>\n",
       "      <td>0.505068</td>\n",
       "      <td>-0.494932</td>\n",
       "    </tr>\n",
       "    <tr>\n",
       "      <th>3</th>\n",
       "      <td>Freeze Mage</td>\n",
       "      <td>0.443562</td>\n",
       "      <td>-0.556438</td>\n",
       "    </tr>\n",
       "    <tr>\n",
       "      <th>4</th>\n",
       "      <td>Mech Mage</td>\n",
       "      <td>0.506986</td>\n",
       "      <td>-0.493014</td>\n",
       "    </tr>\n",
       "    <tr>\n",
       "      <th>5</th>\n",
       "      <td>Secret Paladin</td>\n",
       "      <td>0.517397</td>\n",
       "      <td>-0.482603</td>\n",
       "    </tr>\n",
       "    <tr>\n",
       "      <th>6</th>\n",
       "      <td>Dragon Priest</td>\n",
       "      <td>0.551096</td>\n",
       "      <td>-0.448904</td>\n",
       "    </tr>\n",
       "    <tr>\n",
       "      <th>7</th>\n",
       "      <td>Handlock</td>\n",
       "      <td>0.440822</td>\n",
       "      <td>-0.559178</td>\n",
       "    </tr>\n",
       "    <tr>\n",
       "      <th>8</th>\n",
       "      <td>Demon Handlock</td>\n",
       "      <td>0.446301</td>\n",
       "      <td>-0.553699</td>\n",
       "    </tr>\n",
       "    <tr>\n",
       "      <th>9</th>\n",
       "      <td>Zoolock</td>\n",
       "      <td>0.543699</td>\n",
       "      <td>-0.456301</td>\n",
       "    </tr>\n",
       "    <tr>\n",
       "      <th>10</th>\n",
       "      <td>Control Warrior</td>\n",
       "      <td>0.418904</td>\n",
       "      <td>-0.581096</td>\n",
       "    </tr>\n",
       "    <tr>\n",
       "      <th>11</th>\n",
       "      <td>Patron Warrior</td>\n",
       "      <td>0.548219</td>\n",
       "      <td>-0.451781</td>\n",
       "    </tr>\n",
       "  </tbody>\n",
       "</table>\n",
       "</div>"
      ],
      "text/plain": [
       "                deck       Eu1       Eu2\n",
       "0    Mid-range Druid  0.520000 -0.480000\n",
       "1        Token Druid  0.492466 -0.507534\n",
       "2   Mid-range Hunter  0.505068 -0.494932\n",
       "3        Freeze Mage  0.443562 -0.556438\n",
       "4          Mech Mage  0.506986 -0.493014\n",
       "5     Secret Paladin  0.517397 -0.482603\n",
       "6      Dragon Priest  0.551096 -0.448904\n",
       "7           Handlock  0.440822 -0.559178\n",
       "8     Demon Handlock  0.446301 -0.553699\n",
       "9            Zoolock  0.543699 -0.456301\n",
       "10   Control Warrior  0.418904 -0.581096\n",
       "11    Patron Warrior  0.548219 -0.451781"
      ]
     },
     "execution_count": 8,
     "metadata": {},
     "output_type": "execute_result"
    }
   ],
   "source": [
    "pd.DataFrame(zip(decks, Eu1, Eu2), columns=['deck', 'Eu1', 'Eu2'])"
   ]
  },
  {
   "cell_type": "markdown",
   "metadata": {},
   "source": [
    "Playing against the meta vs. playing against a uniform distribution"
   ]
  },
  {
   "cell_type": "code",
   "execution_count": 9,
   "metadata": {},
   "outputs": [],
   "source": [
    "def Eu(alpha): \n",
    "    return winrates @ alpha"
   ]
  },
  {
   "cell_type": "code",
   "execution_count": 10,
   "metadata": {},
   "outputs": [],
   "source": [
    "uniforms = 1.0/len(decks) * np.ones((len(decks), ))\n",
    "Eu_uniform = Eu(uniforms)"
   ]
  },
  {
   "cell_type": "code",
   "execution_count": 11,
   "metadata": {},
   "outputs": [],
   "source": [
    "t = pd.DataFrame(zip(decks,Eu(playrates), Eu(uniforms)), columns=['deck', 'E(u|playrates)', 'E(u|uniform)'])"
   ]
  },
  {
   "cell_type": "code",
   "execution_count": 12,
   "metadata": {},
   "outputs": [
    {
     "data": {
      "text/html": [
       "<div>\n",
       "<style scoped>\n",
       "    .dataframe tbody tr th:only-of-type {\n",
       "        vertical-align: middle;\n",
       "    }\n",
       "\n",
       "    .dataframe tbody tr th {\n",
       "        vertical-align: top;\n",
       "    }\n",
       "\n",
       "    .dataframe thead th {\n",
       "        text-align: right;\n",
       "    }\n",
       "</style>\n",
       "<table border=\"1\" class=\"dataframe\">\n",
       "  <thead>\n",
       "    <tr style=\"text-align: right;\">\n",
       "      <th></th>\n",
       "      <th>deck</th>\n",
       "      <th>E(u|playrates)</th>\n",
       "      <th>E(u|uniform)</th>\n",
       "    </tr>\n",
       "  </thead>\n",
       "  <tbody>\n",
       "    <tr>\n",
       "      <th>0</th>\n",
       "      <td>Mid-range Druid</td>\n",
       "      <td>52.000000</td>\n",
       "      <td>54.166667</td>\n",
       "    </tr>\n",
       "    <tr>\n",
       "      <th>1</th>\n",
       "      <td>Token Druid</td>\n",
       "      <td>49.246575</td>\n",
       "      <td>50.000000</td>\n",
       "    </tr>\n",
       "    <tr>\n",
       "      <th>2</th>\n",
       "      <td>Mid-range Hunter</td>\n",
       "      <td>50.506849</td>\n",
       "      <td>46.666667</td>\n",
       "    </tr>\n",
       "    <tr>\n",
       "      <th>3</th>\n",
       "      <td>Freeze Mage</td>\n",
       "      <td>44.356164</td>\n",
       "      <td>50.000000</td>\n",
       "    </tr>\n",
       "    <tr>\n",
       "      <th>4</th>\n",
       "      <td>Mech Mage</td>\n",
       "      <td>50.698630</td>\n",
       "      <td>50.000000</td>\n",
       "    </tr>\n",
       "    <tr>\n",
       "      <th>5</th>\n",
       "      <td>Secret Paladin</td>\n",
       "      <td>51.739726</td>\n",
       "      <td>47.083333</td>\n",
       "    </tr>\n",
       "    <tr>\n",
       "      <th>6</th>\n",
       "      <td>Dragon Priest</td>\n",
       "      <td>55.109589</td>\n",
       "      <td>48.333333</td>\n",
       "    </tr>\n",
       "    <tr>\n",
       "      <th>7</th>\n",
       "      <td>Handlock</td>\n",
       "      <td>44.082192</td>\n",
       "      <td>50.833333</td>\n",
       "    </tr>\n",
       "    <tr>\n",
       "      <th>8</th>\n",
       "      <td>Demon Handlock</td>\n",
       "      <td>44.630137</td>\n",
       "      <td>52.916667</td>\n",
       "    </tr>\n",
       "    <tr>\n",
       "      <th>9</th>\n",
       "      <td>Zoolock</td>\n",
       "      <td>54.369863</td>\n",
       "      <td>47.500000</td>\n",
       "    </tr>\n",
       "    <tr>\n",
       "      <th>10</th>\n",
       "      <td>Control Warrior</td>\n",
       "      <td>41.890411</td>\n",
       "      <td>48.750000</td>\n",
       "    </tr>\n",
       "    <tr>\n",
       "      <th>11</th>\n",
       "      <td>Patron Warrior</td>\n",
       "      <td>54.821918</td>\n",
       "      <td>53.750000</td>\n",
       "    </tr>\n",
       "  </tbody>\n",
       "</table>\n",
       "</div>"
      ],
      "text/plain": [
       "                deck  E(u|playrates)  E(u|uniform)\n",
       "0    Mid-range Druid       52.000000     54.166667\n",
       "1        Token Druid       49.246575     50.000000\n",
       "2   Mid-range Hunter       50.506849     46.666667\n",
       "3        Freeze Mage       44.356164     50.000000\n",
       "4          Mech Mage       50.698630     50.000000\n",
       "5     Secret Paladin       51.739726     47.083333\n",
       "6      Dragon Priest       55.109589     48.333333\n",
       "7           Handlock       44.082192     50.833333\n",
       "8     Demon Handlock       44.630137     52.916667\n",
       "9            Zoolock       54.369863     47.500000\n",
       "10   Control Warrior       41.890411     48.750000\n",
       "11    Patron Warrior       54.821918     53.750000"
      ]
     },
     "execution_count": 12,
     "metadata": {},
     "output_type": "execute_result"
    }
   ],
   "source": [
    "t"
   ]
  },
  {
   "cell_type": "code",
   "execution_count": 13,
   "metadata": {},
   "outputs": [
    {
     "data": {
      "text/plain": [
       "deck              Zoolock\n",
       "E(u|playrates)    55.1096\n",
       "E(u|uniform)      54.1667\n",
       "dtype: object"
      ]
     },
     "execution_count": 13,
     "metadata": {},
     "output_type": "execute_result"
    }
   ],
   "source": [
    "t.max()"
   ]
  },
  {
   "cell_type": "code",
   "execution_count": 14,
   "metadata": {},
   "outputs": [],
   "source": [
    "tab = pd.DataFrame(winrates, index=decks, columns=decks)"
   ]
  },
  {
   "cell_type": "code",
   "execution_count": 15,
   "metadata": {},
   "outputs": [],
   "source": [
    "i = tab.mean(1).sort_values(ascending=False).index.get_level_values(0).values[0]"
   ]
  },
  {
   "cell_type": "code",
   "execution_count": 16,
   "metadata": {},
   "outputs": [
    {
     "data": {
      "text/plain": [
       "Zoolock             35.0\n",
       "Dragon Priest       40.0\n",
       "Mid-range Hunter    45.0\n",
       "Secret Paladin      45.0\n",
       "Mid-range Druid     50.0\n",
       "Token Druid         50.0\n",
       "Mech Mage           55.0\n",
       "Demon Handlock      60.0\n",
       "Patron Warrior      60.0\n",
       "Handlock            65.0\n",
       "Control Warrior     70.0\n",
       "Freeze Mage         75.0\n",
       "Name: Mid-range Druid, dtype: float64"
      ]
     },
     "execution_count": 16,
     "metadata": {},
     "output_type": "execute_result"
    }
   ],
   "source": [
    "tab.loc[i].sort_values()"
   ]
  },
  {
   "cell_type": "code",
   "execution_count": 17,
   "metadata": {},
   "outputs": [
    {
     "data": {
      "text/plain": [
       "Mid-range Druid     65.0\n",
       "Token Druid         60.0\n",
       "Mid-range Hunter    55.0\n",
       "Freeze Mage         20.0\n",
       "Mech Mage           70.0\n",
       "Secret Paladin      45.0\n",
       "Dragon Priest       30.0\n",
       "Handlock            35.0\n",
       "Demon Handlock      40.0\n",
       "Zoolock             50.0\n",
       "Control Warrior     60.0\n",
       "Patron Warrior      40.0\n",
       "Name: Zoolock, dtype: float64"
      ]
     },
     "execution_count": 17,
     "metadata": {},
     "output_type": "execute_result"
    }
   ],
   "source": [
    "tab.loc['Zoolock']"
   ]
  },
  {
   "cell_type": "code",
   "execution_count": 18,
   "metadata": {},
   "outputs": [
    {
     "data": {
      "text/html": [
       "<div>\n",
       "<style scoped>\n",
       "    .dataframe tbody tr th:only-of-type {\n",
       "        vertical-align: middle;\n",
       "    }\n",
       "\n",
       "    .dataframe tbody tr th {\n",
       "        vertical-align: top;\n",
       "    }\n",
       "\n",
       "    .dataframe thead th {\n",
       "        text-align: right;\n",
       "    }\n",
       "</style>\n",
       "<table border=\"1\" class=\"dataframe\">\n",
       "  <thead>\n",
       "    <tr style=\"text-align: right;\">\n",
       "      <th></th>\n",
       "      <th>Mid-range Druid</th>\n",
       "      <th>Token Druid</th>\n",
       "      <th>Mid-range Hunter</th>\n",
       "      <th>Freeze Mage</th>\n",
       "      <th>Mech Mage</th>\n",
       "      <th>Secret Paladin</th>\n",
       "      <th>Dragon Priest</th>\n",
       "      <th>Handlock</th>\n",
       "      <th>Demon Handlock</th>\n",
       "      <th>Zoolock</th>\n",
       "      <th>Control Warrior</th>\n",
       "      <th>Patron Warrior</th>\n",
       "    </tr>\n",
       "  </thead>\n",
       "  <tbody>\n",
       "    <tr>\n",
       "      <th>Mid-range Druid</th>\n",
       "      <td>(50.0, -50.0)</td>\n",
       "      <td>(50.0, -50.0)</td>\n",
       "      <td>(45.0, -45.0)</td>\n",
       "      <td>(75.0, -75.0)</td>\n",
       "      <td>(55.0, -55.0)</td>\n",
       "      <td>(45.0, -45.0)</td>\n",
       "      <td>(40.0, -40.0)</td>\n",
       "      <td>(65.0, -65.0)</td>\n",
       "      <td>(60.0, -60.0)</td>\n",
       "      <td>(35.0, -35.0)</td>\n",
       "      <td>(70.0, -70.0)</td>\n",
       "      <td>(60.0, -60.0)</td>\n",
       "    </tr>\n",
       "    <tr>\n",
       "      <th>Token Druid</th>\n",
       "      <td>(50.0, -50.0)</td>\n",
       "      <td>(50.0, -50.0)</td>\n",
       "      <td>(40.0, -40.0)</td>\n",
       "      <td>(60.0, -60.0)</td>\n",
       "      <td>(55.0, -55.0)</td>\n",
       "      <td>(40.0, -40.0)</td>\n",
       "      <td>(35.0, -35.0)</td>\n",
       "      <td>(55.0, -55.0)</td>\n",
       "      <td>(60.0, -60.0)</td>\n",
       "      <td>(40.0, -40.0)</td>\n",
       "      <td>(75.0, -75.0)</td>\n",
       "      <td>(40.0, -40.0)</td>\n",
       "    </tr>\n",
       "    <tr>\n",
       "      <th>Mid-range Hunter</th>\n",
       "      <td>(55.0, -55.0)</td>\n",
       "      <td>(60.0, -60.0)</td>\n",
       "      <td>(50.0, -50.0)</td>\n",
       "      <td>(35.0, -35.0)</td>\n",
       "      <td>(40.0, -40.0)</td>\n",
       "      <td>(35.0, -35.0)</td>\n",
       "      <td>(40.0, -40.0)</td>\n",
       "      <td>(50.0, -50.0)</td>\n",
       "      <td>(65.0, -65.0)</td>\n",
       "      <td>(45.0, -45.0)</td>\n",
       "      <td>(55.0, -55.0)</td>\n",
       "      <td>(30.0, -30.0)</td>\n",
       "    </tr>\n",
       "    <tr>\n",
       "      <th>Freeze Mage</th>\n",
       "      <td>(25.0, -25.0)</td>\n",
       "      <td>(40.0, -40.0)</td>\n",
       "      <td>(65.0, -65.0)</td>\n",
       "      <td>(50.0, -50.0)</td>\n",
       "      <td>(30.0, -30.0)</td>\n",
       "      <td>(70.0, -70.0)</td>\n",
       "      <td>(70.0, -70.0)</td>\n",
       "      <td>(70.0, -70.0)</td>\n",
       "      <td>(70.0, -70.0)</td>\n",
       "      <td>(80.0, -80.0)</td>\n",
       "      <td>(10.0, -10.0)</td>\n",
       "      <td>(20.0, -20.0)</td>\n",
       "    </tr>\n",
       "    <tr>\n",
       "      <th>Mech Mage</th>\n",
       "      <td>(45.0, -45.0)</td>\n",
       "      <td>(45.0, -45.0)</td>\n",
       "      <td>(60.0, -60.0)</td>\n",
       "      <td>(70.0, -70.0)</td>\n",
       "      <td>(50.0, -50.0)</td>\n",
       "      <td>(70.0, -70.0)</td>\n",
       "      <td>(40.0, -40.0)</td>\n",
       "      <td>(60.0, -60.0)</td>\n",
       "      <td>(40.0, -40.0)</td>\n",
       "      <td>(30.0, -30.0)</td>\n",
       "      <td>(35.0, -35.0)</td>\n",
       "      <td>(55.0, -55.0)</td>\n",
       "    </tr>\n",
       "    <tr>\n",
       "      <th>Secret Paladin</th>\n",
       "      <td>(55.0, -55.0)</td>\n",
       "      <td>(60.0, -60.0)</td>\n",
       "      <td>(65.0, -65.0)</td>\n",
       "      <td>(30.0, -30.0)</td>\n",
       "      <td>(30.0, -30.0)</td>\n",
       "      <td>(50.0, -50.0)</td>\n",
       "      <td>(50.0, -50.0)</td>\n",
       "      <td>(45.0, -45.0)</td>\n",
       "      <td>(35.0, -35.0)</td>\n",
       "      <td>(55.0, -55.0)</td>\n",
       "      <td>(60.0, -60.0)</td>\n",
       "      <td>(30.0, -30.0)</td>\n",
       "    </tr>\n",
       "    <tr>\n",
       "      <th>Dragon Priest</th>\n",
       "      <td>(60.0, -60.0)</td>\n",
       "      <td>(65.0, -65.0)</td>\n",
       "      <td>(60.0, -60.0)</td>\n",
       "      <td>(30.0, -30.0)</td>\n",
       "      <td>(60.0, -60.0)</td>\n",
       "      <td>(50.0, -50.0)</td>\n",
       "      <td>(50.0, -50.0)</td>\n",
       "      <td>(20.0, -20.0)</td>\n",
       "      <td>(25.0, -25.0)</td>\n",
       "      <td>(70.0, -70.0)</td>\n",
       "      <td>(40.0, -40.0)</td>\n",
       "      <td>(50.0, -50.0)</td>\n",
       "    </tr>\n",
       "    <tr>\n",
       "      <th>Handlock</th>\n",
       "      <td>(35.0, -35.0)</td>\n",
       "      <td>(45.0, -45.0)</td>\n",
       "      <td>(50.0, -50.0)</td>\n",
       "      <td>(30.0, -30.0)</td>\n",
       "      <td>(40.0, -40.0)</td>\n",
       "      <td>(55.0, -55.0)</td>\n",
       "      <td>(80.0, -80.0)</td>\n",
       "      <td>(50.0, -50.0)</td>\n",
       "      <td>(45.0, -45.0)</td>\n",
       "      <td>(65.0, -65.0)</td>\n",
       "      <td>(60.0, -60.0)</td>\n",
       "      <td>(55.0, -55.0)</td>\n",
       "    </tr>\n",
       "    <tr>\n",
       "      <th>Demon Handlock</th>\n",
       "      <td>(40.0, -40.0)</td>\n",
       "      <td>(40.0, -40.0)</td>\n",
       "      <td>(35.0, -35.0)</td>\n",
       "      <td>(30.0, -30.0)</td>\n",
       "      <td>(60.0, -60.0)</td>\n",
       "      <td>(65.0, -65.0)</td>\n",
       "      <td>(75.0, -75.0)</td>\n",
       "      <td>(55.0, -55.0)</td>\n",
       "      <td>(50.0, -50.0)</td>\n",
       "      <td>(60.0, -60.0)</td>\n",
       "      <td>(60.0, -60.0)</td>\n",
       "      <td>(65.0, -65.0)</td>\n",
       "    </tr>\n",
       "    <tr>\n",
       "      <th>Zoolock</th>\n",
       "      <td>(65.0, -65.0)</td>\n",
       "      <td>(60.0, -60.0)</td>\n",
       "      <td>(55.0, -55.0)</td>\n",
       "      <td>(20.0, -20.0)</td>\n",
       "      <td>(70.0, -70.0)</td>\n",
       "      <td>(45.0, -45.0)</td>\n",
       "      <td>(30.0, -30.0)</td>\n",
       "      <td>(35.0, -35.0)</td>\n",
       "      <td>(40.0, -40.0)</td>\n",
       "      <td>(50.0, -50.0)</td>\n",
       "      <td>(60.0, -60.0)</td>\n",
       "      <td>(40.0, -40.0)</td>\n",
       "    </tr>\n",
       "    <tr>\n",
       "      <th>Control Warrior</th>\n",
       "      <td>(30.0, -30.0)</td>\n",
       "      <td>(25.0, -25.0)</td>\n",
       "      <td>(45.0, -45.0)</td>\n",
       "      <td>(90.0, -90.0)</td>\n",
       "      <td>(65.0, -65.0)</td>\n",
       "      <td>(40.0, -40.0)</td>\n",
       "      <td>(60.0, -60.0)</td>\n",
       "      <td>(40.0, -40.0)</td>\n",
       "      <td>(40.0, -40.0)</td>\n",
       "      <td>(40.0, -40.0)</td>\n",
       "      <td>(50.0, -50.0)</td>\n",
       "      <td>(60.0, -60.0)</td>\n",
       "    </tr>\n",
       "    <tr>\n",
       "      <th>Patron Warrior</th>\n",
       "      <td>(40.0, -40.0)</td>\n",
       "      <td>(60.0, -60.0)</td>\n",
       "      <td>(70.0, -70.0)</td>\n",
       "      <td>(80.0, -80.0)</td>\n",
       "      <td>(45.0, -45.0)</td>\n",
       "      <td>(70.0, -70.0)</td>\n",
       "      <td>(50.0, -50.0)</td>\n",
       "      <td>(45.0, -45.0)</td>\n",
       "      <td>(35.0, -35.0)</td>\n",
       "      <td>(60.0, -60.0)</td>\n",
       "      <td>(40.0, -40.0)</td>\n",
       "      <td>(50.0, -50.0)</td>\n",
       "    </tr>\n",
       "  </tbody>\n",
       "</table>\n",
       "</div>"
      ],
      "text/plain": [
       "                 Mid-range Druid    Token Druid Mid-range Hunter  \\\n",
       "Mid-range Druid    (50.0, -50.0)  (50.0, -50.0)    (45.0, -45.0)   \n",
       "Token Druid        (50.0, -50.0)  (50.0, -50.0)    (40.0, -40.0)   \n",
       "Mid-range Hunter   (55.0, -55.0)  (60.0, -60.0)    (50.0, -50.0)   \n",
       "Freeze Mage        (25.0, -25.0)  (40.0, -40.0)    (65.0, -65.0)   \n",
       "Mech Mage          (45.0, -45.0)  (45.0, -45.0)    (60.0, -60.0)   \n",
       "Secret Paladin     (55.0, -55.0)  (60.0, -60.0)    (65.0, -65.0)   \n",
       "Dragon Priest      (60.0, -60.0)  (65.0, -65.0)    (60.0, -60.0)   \n",
       "Handlock           (35.0, -35.0)  (45.0, -45.0)    (50.0, -50.0)   \n",
       "Demon Handlock     (40.0, -40.0)  (40.0, -40.0)    (35.0, -35.0)   \n",
       "Zoolock            (65.0, -65.0)  (60.0, -60.0)    (55.0, -55.0)   \n",
       "Control Warrior    (30.0, -30.0)  (25.0, -25.0)    (45.0, -45.0)   \n",
       "Patron Warrior     (40.0, -40.0)  (60.0, -60.0)    (70.0, -70.0)   \n",
       "\n",
       "                    Freeze Mage      Mech Mage Secret Paladin  Dragon Priest  \\\n",
       "Mid-range Druid   (75.0, -75.0)  (55.0, -55.0)  (45.0, -45.0)  (40.0, -40.0)   \n",
       "Token Druid       (60.0, -60.0)  (55.0, -55.0)  (40.0, -40.0)  (35.0, -35.0)   \n",
       "Mid-range Hunter  (35.0, -35.0)  (40.0, -40.0)  (35.0, -35.0)  (40.0, -40.0)   \n",
       "Freeze Mage       (50.0, -50.0)  (30.0, -30.0)  (70.0, -70.0)  (70.0, -70.0)   \n",
       "Mech Mage         (70.0, -70.0)  (50.0, -50.0)  (70.0, -70.0)  (40.0, -40.0)   \n",
       "Secret Paladin    (30.0, -30.0)  (30.0, -30.0)  (50.0, -50.0)  (50.0, -50.0)   \n",
       "Dragon Priest     (30.0, -30.0)  (60.0, -60.0)  (50.0, -50.0)  (50.0, -50.0)   \n",
       "Handlock          (30.0, -30.0)  (40.0, -40.0)  (55.0, -55.0)  (80.0, -80.0)   \n",
       "Demon Handlock    (30.0, -30.0)  (60.0, -60.0)  (65.0, -65.0)  (75.0, -75.0)   \n",
       "Zoolock           (20.0, -20.0)  (70.0, -70.0)  (45.0, -45.0)  (30.0, -30.0)   \n",
       "Control Warrior   (90.0, -90.0)  (65.0, -65.0)  (40.0, -40.0)  (60.0, -60.0)   \n",
       "Patron Warrior    (80.0, -80.0)  (45.0, -45.0)  (70.0, -70.0)  (50.0, -50.0)   \n",
       "\n",
       "                       Handlock Demon Handlock        Zoolock Control Warrior  \\\n",
       "Mid-range Druid   (65.0, -65.0)  (60.0, -60.0)  (35.0, -35.0)   (70.0, -70.0)   \n",
       "Token Druid       (55.0, -55.0)  (60.0, -60.0)  (40.0, -40.0)   (75.0, -75.0)   \n",
       "Mid-range Hunter  (50.0, -50.0)  (65.0, -65.0)  (45.0, -45.0)   (55.0, -55.0)   \n",
       "Freeze Mage       (70.0, -70.0)  (70.0, -70.0)  (80.0, -80.0)   (10.0, -10.0)   \n",
       "Mech Mage         (60.0, -60.0)  (40.0, -40.0)  (30.0, -30.0)   (35.0, -35.0)   \n",
       "Secret Paladin    (45.0, -45.0)  (35.0, -35.0)  (55.0, -55.0)   (60.0, -60.0)   \n",
       "Dragon Priest     (20.0, -20.0)  (25.0, -25.0)  (70.0, -70.0)   (40.0, -40.0)   \n",
       "Handlock          (50.0, -50.0)  (45.0, -45.0)  (65.0, -65.0)   (60.0, -60.0)   \n",
       "Demon Handlock    (55.0, -55.0)  (50.0, -50.0)  (60.0, -60.0)   (60.0, -60.0)   \n",
       "Zoolock           (35.0, -35.0)  (40.0, -40.0)  (50.0, -50.0)   (60.0, -60.0)   \n",
       "Control Warrior   (40.0, -40.0)  (40.0, -40.0)  (40.0, -40.0)   (50.0, -50.0)   \n",
       "Patron Warrior    (45.0, -45.0)  (35.0, -35.0)  (60.0, -60.0)   (40.0, -40.0)   \n",
       "\n",
       "                 Patron Warrior  \n",
       "Mid-range Druid   (60.0, -60.0)  \n",
       "Token Druid       (40.0, -40.0)  \n",
       "Mid-range Hunter  (30.0, -30.0)  \n",
       "Freeze Mage       (20.0, -20.0)  \n",
       "Mech Mage         (55.0, -55.0)  \n",
       "Secret Paladin    (30.0, -30.0)  \n",
       "Dragon Priest     (50.0, -50.0)  \n",
       "Handlock          (55.0, -55.0)  \n",
       "Demon Handlock    (65.0, -65.0)  \n",
       "Zoolock           (40.0, -40.0)  \n",
       "Control Warrior   (60.0, -60.0)  \n",
       "Patron Warrior    (50.0, -50.0)  "
      ]
     },
     "execution_count": 18,
     "metadata": {},
     "output_type": "execute_result"
    }
   ],
   "source": [
    "tab = print_payoffs(U, A)\n",
    "tab"
   ]
  },
  {
   "cell_type": "code",
   "execution_count": 19,
   "metadata": {},
   "outputs": [
    {
     "data": {
      "image/png": "[encoded data removed]",
      "text/plain": [
       "<Figure size 432x288 with 2 Axes>"
      ]
     },
     "metadata": {
      "needs_background": "light"
     },
     "output_type": "display_data"
    }
   ],
   "source": [
    "sns.heatmap(U1, xticklabels=decks, yticklabels=decks); "
   ]
  },
  {
   "cell_type": "markdown",
   "metadata": {},
   "source": [
    "# Solve with method linear programming"
   ]
  },
  {
   "cell_type": "code",
   "execution_count": 20,
   "metadata": {},
   "outputs": [
    {
     "data": {
      "text/plain": [
       "array([4.00611723e-01, 2.97053135e-08, 1.00917353e-01, 7.33943993e-02,\n",
       "       1.74365834e-08, 1.52910610e-02, 2.69112722e-01, 6.11624363e-03,\n",
       "       1.34556676e-01, 2.87107958e-08, 2.02182255e-08, 5.54585233e-08])"
      ]
     },
     "execution_count": 20,
     "metadata": {},
     "output_type": "execute_result"
    }
   ],
   "source": [
    "p = solve_zerosum_with_linprog(U1)\n",
    "p"
   ]
  },
  {
   "cell_type": "code",
   "execution_count": 21,
   "metadata": {},
   "outputs": [],
   "source": [
    "sol = pd.DataFrame(zip(decks, p), columns=['deck', 'alpha_NE'])"
   ]
  },
  {
   "cell_type": "code",
   "execution_count": 22,
   "metadata": {},
   "outputs": [
    {
     "data": {
      "image/png": "[encoded data removed]",
      "text/plain": [
       "<Figure size 432x288 with 1 Axes>"
      ]
     },
     "metadata": {
      "needs_background": "light"
     },
     "output_type": "display_data"
    }
   ],
   "source": [
    "ax = sol.plot(kind='bar')\n",
    "ax.set_xticklabels(sol.deck); \n",
    "ax.set_ylabel('Pr(deck played)'); \n",
    "ax.set_title('Nash Equilbrium'); "
   ]
  },
  {
   "cell_type": "markdown",
   "metadata": {},
   "source": [
    "# Fictitious play "
   ]
  },
  {
   "cell_type": "code",
   "execution_count": 23,
   "metadata": {},
   "outputs": [],
   "source": [
    "G = nashpy.Game(U[0], U[1])"
   ]
  },
  {
   "cell_type": "code",
   "execution_count": 24,
   "metadata": {},
   "outputs": [],
   "source": [
    "nit = 1000\n",
    "f = np.array(list(G.fictitious_play(nit))) / nit"
   ]
  },
  {
   "cell_type": "code",
   "execution_count": 25,
   "metadata": {},
   "outputs": [],
   "source": [
    "i_player = 0\n",
    "history = f[:, i_player, :] "
   ]
  },
  {
   "cell_type": "code",
   "execution_count": 26,
   "metadata": {},
   "outputs": [],
   "source": [
    "i_deck = U1.mean(1).argmax()"
   ]
  },
  {
   "cell_type": "code",
   "execution_count": 27,
   "metadata": {},
   "outputs": [],
   "source": [
    "i_deck = 9"
   ]
  },
  {
   "cell_type": "code",
   "execution_count": 28,
   "metadata": {},
   "outputs": [
    {
     "data": {
      "image/png": "[encoded data removed]",
      "text/plain": [
       "<Figure size 432x288 with 1 Axes>"
      ]
     },
     "metadata": {
      "needs_background": "light"
     },
     "output_type": "display_data"
    }
   ],
   "source": [
    "plt.plot(history[:, i_deck]); \n",
    "plt.title(f'Fictitious play development');\n",
    "plt.xlabel('Iterations'); \n",
    "plt.ylabel(f'Pct. of games where a = {A[0][i_deck]}'); "
   ]
  },
  {
   "cell_type": "code",
   "execution_count": 29,
   "metadata": {},
   "outputs": [],
   "source": [
    "fp = pd.DataFrame(zip(A[0], np.array(history[-1, :])), columns=['deck', 'alpha_fict_play'])"
   ]
  },
  {
   "cell_type": "code",
   "execution_count": 30,
   "metadata": {},
   "outputs": [],
   "source": [
    "res = pd.merge(sol, fp, on='deck', how='left')"
   ]
  },
  {
   "cell_type": "code",
   "execution_count": 31,
   "metadata": {},
   "outputs": [
    {
     "data": {
      "image/png": "[encoded data removed]",
      "text/plain": [
       "<Figure size 432x288 with 1 Axes>"
      ]
     },
     "metadata": {
      "needs_background": "light"
     },
     "output_type": "display_data"
    }
   ],
   "source": [
    "ax = res.plot.bar(); \n",
    "ax.set_xticklabels(res.deck); "
   ]
  },
  {
   "cell_type": "markdown",
   "metadata": {},
   "source": [
    "# Lemke-Howson \n",
    "\n",
    "This algorithm behaves rather badly on this game, which illustrates the power of the linear programming algorithm. "
   ]
  },
  {
   "cell_type": "code",
   "execution_count": 32,
   "metadata": {},
   "outputs": [],
   "source": [
    "G = nashpy.Game(U1, U2)"
   ]
  },
  {
   "cell_type": "code",
   "execution_count": 33,
   "metadata": {},
   "outputs": [],
   "source": [
    "s = G.lemke_howson_enumeration()"
   ]
  },
  {
   "cell_type": "code",
   "execution_count": 34,
   "metadata": {},
   "outputs": [
    {
     "name": "stderr",
     "output_type": "stream",
     "text": [
      "/Users/mrz577/opt/anaconda3/lib/python3.8/site-packages/nashpy/integer_pivoting/integer_pivoting.py:54: RuntimeWarning: overflow encountered in multiply\n",
      "  tableau[i, :] * pivot_element\n",
      "/Users/mrz577/opt/anaconda3/lib/python3.8/site-packages/nashpy/integer_pivoting/integer_pivoting.py:55: RuntimeWarning: overflow encountered in multiply\n",
      "  - tableau[pivot_row_index, :] * tableau[i, column_index]\n",
      "/Users/mrz577/opt/anaconda3/lib/python3.8/site-packages/nashpy/integer_pivoting/integer_pivoting.py:54: RuntimeWarning: invalid value encountered in subtract\n",
      "  tableau[i, :] * pivot_element\n",
      "/Users/mrz577/opt/anaconda3/lib/python3.8/site-packages/nashpy/integer_pivoting/integer_pivoting.py:31: RuntimeWarning: invalid value encountered in true_divide\n",
      "  return np.argmax(tableau[:, column_index] / tableau[:, -1])\n",
      "/Users/mrz577/opt/anaconda3/lib/python3.8/site-packages/nashpy/integer_pivoting/integer_pivoting.py:54: RuntimeWarning: invalid value encountered in multiply\n",
      "  tableau[i, :] * pivot_element\n",
      "/Users/mrz577/opt/anaconda3/lib/python3.8/site-packages/nashpy/integer_pivoting/integer_pivoting.py:55: RuntimeWarning: invalid value encountered in multiply\n",
      "  - tableau[pivot_row_index, :] * tableau[i, column_index]\n",
      "/Users/mrz577/opt/anaconda3/lib/python3.8/site-packages/nashpy/algorithms/lemke_howson.py:57: RuntimeWarning: invalid value encountered in double_scalars\n",
      "  vertex.append(tableau[i, -1] / row)\n",
      "/Users/mrz577/opt/anaconda3/lib/python3.8/site-packages/nashpy/algorithms/lemke_howson.py:132: RuntimeWarning: The Lemke Howson algorithm has returned probability vectors of \n",
      "incorrect shapes. This indicates an error. Your game could be degenerate.\n",
      "  warnings.warn(msg, RuntimeWarning)\n"
     ]
    }
   ],
   "source": [
    "sol = next(s)"
   ]
  },
  {
   "cell_type": "code",
   "execution_count": 35,
   "metadata": {},
   "outputs": [
    {
     "data": {
      "text/plain": [
       "(array([nan, nan, nan, nan, nan, nan, nan, nan, nan, nan, nan, nan, nan,\n",
       "        nan, nan, nan, nan, nan, nan, nan, nan, nan, nan, nan, nan, nan,\n",
       "        nan, nan, nan, nan, nan, nan, nan, nan, nan, nan, nan, nan, nan,\n",
       "        nan, nan, nan, nan, nan, nan, nan, nan, nan, nan, nan, nan, nan,\n",
       "        nan, nan, nan, nan, nan, nan, nan, nan, nan, nan, nan, nan, nan,\n",
       "        nan, nan, nan, nan, nan, nan, nan, nan, nan]),\n",
       " array([nan, nan, nan, nan, nan, nan, nan, nan, nan, nan, nan, nan, nan,\n",
       "        nan, nan, nan, nan, nan, nan, nan, nan, nan, nan, nan, nan, nan,\n",
       "        nan, nan, nan, nan, nan, nan, nan, nan, nan, nan, nan, nan, nan,\n",
       "        nan, nan, nan, nan, nan, nan, nan, nan, nan, nan, nan, nan, nan,\n",
       "        nan, nan, nan, nan, nan, nan, nan, nan, nan, nan, nan, nan, nan,\n",
       "        nan, nan, nan, nan, nan, nan, nan, nan, nan, nan, nan, nan, nan,\n",
       "        nan, nan, nan, nan, nan, nan, nan, nan]))"
      ]
     },
     "execution_count": 35,
     "metadata": {},
     "output_type": "execute_result"
    }
   ],
   "source": [
    "sol"
   ]
  },
  {
   "cell_type": "markdown",
   "metadata": {},
   "source": [
    "# Simple support enumeration\n",
    "\n",
    "This one is even worse than Lemke-Hawson and sometimes does not even finish. "
   ]
  },
  {
   "cell_type": "code",
   "execution_count": 36,
   "metadata": {},
   "outputs": [],
   "source": [
    "s = G.support_enumeration()"
   ]
  },
  {
   "cell_type": "code",
   "execution_count": null,
   "metadata": {},
   "outputs": [],
   "source": [
    "sol0 = next(s)"
   ]
  }
 ],
 "metadata": {
  "kernelspec": {
   "display_name": "Python 3",
   "language": "python",
   "name": "python3"
  },
  "language_info": {
   "codemirror_mode": {
    "name": "ipython",
    "version": 3
   },
   "file_extension": ".py",
   "mimetype": "text/x-python",
   "name": "python",
   "nbconvert_exporter": "python",
   "pygments_lexer": "ipython3",
   "version": "3.8.2"
  }
 },
 "nbformat": 4,
 "nbformat_minor": 4
}
