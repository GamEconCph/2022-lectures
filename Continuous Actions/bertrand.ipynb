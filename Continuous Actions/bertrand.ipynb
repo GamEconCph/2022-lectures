{
 "cells": [
  {
   "cell_type": "markdown",
   "metadata": {},
   "source": [
    "# Differentiated Bertrand Competition\n",
    "\n",
    "A simple model of ***differentiated*** Bertrand competition (i.e. it behaves like a Cournot model, but firms are choosing prices, not quantities).\n",
    "\n",
    "This notebook is only partially finished (for pedagogical reasons). \n",
    "\n",
    "**Note:** This is rather different from the ***pure Bertrand*** model. In that model, products are ***perfect substitutes*** to consumers, so they simply choose the cheapest alternative. As we shall see, the differentiated Bertrand model has quite a bit of taste heterogeneity, implying that there is no discontinuity at the minimum price. "
   ]
  },
  {
   "cell_type": "code",
   "execution_count": 1,
   "metadata": {},
   "outputs": [],
   "source": [
    "import pandas as pd \n",
    "import numpy as np \n",
    "import matplotlib.pyplot as plt \n",
    "from scipy.optimize import minimize, fsolve"
   ]
  },
  {
   "cell_type": "markdown",
   "metadata": {},
   "source": [
    "# Model \n",
    "\n",
    "Firms maximize profits given by \n",
    "$$ \\pi(p_i, p_j) = M s(p_i,p_j)(p_i - c), $$ \n",
    "where $c$ are symmetric marginal cost, $M$ is the market size (turns out not to matter), and $(p_i,p_j)$ are the own and competitor prices, and where the market share function, $s(\\cdot,\\cdot)$, is given by \n",
    "\n",
    "$$ s_1(p_1,p_2) = \\frac{\\exp(\\gamma_1 - \\delta_1 p_1)}{1 + \\exp(\\gamma_1 - \\delta_1 p_1) + \\exp(\\gamma_2 - \\delta_2 p_2)}. $$\n",
    "\n",
    "*Why doesn't the market size matter?* Because whether firms maximize $\\pi_i (p_i,p_j)$ or $ 10,000 \\pi_i (p_i,p_j)$ makes no difference: the maximizing value of $p_i$ is the same. Hence, we can just treat the problem *as if* $M := 1$. It is as if we are measuring profits *per consumer* as opposed to just total profits. "
   ]
  },
  {
   "cell_type": "markdown",
   "metadata": {},
   "source": [
    "## Technical details (for the curious)\n",
    "\n",
    "### Where does the choice probability formula come from? \n",
    "This comes from a model where the consumer gets indirect utility \n",
    "$$ u_{ij} = 1 - \\delta_j p_j + \\varepsilon_{ij}$$ \n",
    "from choosing products $j = 1,2$, but gets \n",
    "$$ u_{i0} = \\varepsilon_{ij}$$ \n",
    "from choosing the outside option, where \n",
    "$$ \\varepsilon_{ij} \\sim \\text{IID Extreme Value Type I}. $$ \n",
    "Under this assumption on the error term, it can be shown that the probability that consumer $i$ chooses alternative $j$ among the options $j \\in \\{0, 1, 2\\}$ takes the form given earlier, and \n",
    "$$ \\Pr(i \\text{ chooses }j = 0) = \\frac{1}{1 + \\exp(\\gamma_1 - \\delta_1 p_1) + \\exp(\\gamma_2 - \\delta_2 p_2)} $$\n",
    "(since $\\exp(0) = 1$, which appears both in the numerator and the denominator). \n",
    "\n",
    "### Max-rescaling\n",
    "\n",
    "Conveniently, we may choose to *max rescale* the utilities. Denote \n",
    "$$ v_{i0} \\equiv 0, v_{i1} \\equiv \\gamma_1 - \\delta_1 p_1, v_{i2} \\equiv \\gamma_2 - \\delta_2. $$\n",
    "Then we can use that \n",
    "$$ \\frac{\\exp(v_{ij})}{\\sum_{k=0}^2 \\exp(v_{ik})} = \\frac{\\exp(v_{ij} - M)}{\\sum_{k=0}^2 \\exp(v_{ik} - M)} \\quad \\text{for any } M \\in \\mathbb{R}.$$\n",
    "This equality holds analytically, but there is a numerical difference: since round-up errors are much worse for our applications, it is better to have small numbers enter into the exponential functions. Hence, we can e.g. set \n",
    "$$M := \\max_{k \\in \\{0,1,2 \\} } v_{ik},$$\n",
    "and then we will only ever have round-down errors. "
   ]
  },
  {
   "cell_type": "code",
   "execution_count": 2,
   "metadata": {},
   "outputs": [],
   "source": [
    "# assign parameter values \n",
    "c = 0.5 \n",
    "gamma1 = 4.0\n",
    "gamma2 = 4.0\n",
    "delta1 = 3.0 \n",
    "delta2 = 3.0 \n",
    "\n",
    "def u(p1,p2): \n",
    "    u1 = gamma1 - delta1*p1\n",
    "    u2 = gamma2 - delta2*p2\n",
    "    return u1,u2\n",
    "\n",
    "def s(p1, p2): \n",
    "    u1,u2 = u(p1,p2)\n",
    "    \n",
    "    # max-rescaling (eliminates \"round-up\" errors at the cost of more \"round-down\" errors)\n",
    "    # (and round-down errors are less critical)\n",
    "    M = np.amax([0.0,u1,u2])\n",
    "    eu0 = np.exp(0.0 - M) # outside option \n",
    "    eu1 = np.exp(u1  - M)\n",
    "    eu2 = np.exp(u2  - M)\n",
    "    \n",
    "    # denominator \n",
    "    denom = eu0 + eu1 + eu2 \n",
    "    \n",
    "    # market shares \n",
    "    s1 = eu1 / denom \n",
    "    s2 = eu2 / denom \n",
    "    \n",
    "    return s1, s2\n",
    "    \n",
    "def profit1(p1, p2): \n",
    "    s1,s2 = s(p1,p2)\n",
    "    return (p1 - c)*s1\n",
    "\n",
    "def profit2(p2, p1): # note the order! \n",
    "    s1,s2 = s(p1,p2)\n",
    "    return (p2 - c)*s2"
   ]
  },
  {
   "cell_type": "markdown",
   "metadata": {},
   "source": [
    "Plot payoffs for player 1 for different values of player 2's action (price). "
   ]
  },
  {
   "cell_type": "code",
   "execution_count": 3,
   "metadata": {},
   "outputs": [
    {
     "data": {
      "image/png": "[encoded data removed]",
      "text/plain": [
       "<Figure size 432x288 with 1 Axes>"
      ]
     },
     "metadata": {
      "needs_background": "light"
     },
     "output_type": "display_data"
    }
   ],
   "source": [
    "fig, ax = plt.subplots()\n",
    "pp = np.linspace(c, 2., 100) # the grid we plot over \n",
    "\n",
    "for p2 in [0.5, 0.9, 2.0]: \n",
    "    ff = [profit1(p, p2) for p in pp] # loop through and evaluate profits \n",
    "    ax.plot(pp, ff, label=f'p2 = {p2}'); \n",
    "plt.xlabel('Price of firm 1'); plt.ylabel('Profit of firm 1'); \n",
    "plt.legend(title='Competitor price'); "
   ]
  },
  {
   "cell_type": "markdown",
   "metadata": {},
   "source": [
    "From the graph above, it is clear that firm 1's profit increases overall when firm 2 raises the price (because the two products are substitutes). However, the optimal price also change, although not by much. "
   ]
  },
  {
   "cell_type": "markdown",
   "metadata": {},
   "source": [
    "# Manual iterative best response\n",
    "\n",
    "**Proposition:** The firms will always choose a price $p^i \\in (c; \\infty)$. \n",
    "\n",
    "**Proof:** Given our game setup, we know that for $p^i \\le c$, we will have $\\pi^i \\le 0$. Similarly, due to the demand function, when $p^i \\to \\infty$, the market share will tend to zero, $ s^i \\to 0$. However, since the profit is a product then, $\\pi^i = (s^i - c)p^i$, it depends on the relative speed of $p^i \\to \\infty$  and $ s^i \\to 0$ which one will dominate. However, it turns out that the latter dominates so that $ \\pi^i \\to 0$  as $p^i \\to \\infty$. \n",
    "\n",
    "**Best response:** We cannot generally solve the profit maximization problem in the same way as we did with a simple linear demand curve. However, there is nothing wrong with taking `scipy.optimize.minimize` for a spin! We just have to use the negative of profits as the objective function since it is minimizing and we want to maximize profits. The algorithm then works as follows: \n",
    "1. Initialize `p2` to some value\n",
    "2. Find `p1` that minimizes `-pi(p, p2, i=0)` wrt. `p` - call the minimizer `p1`. \n",
    "3. Find `p2` that minimizes `-pi(p1, p, i=1)` wrt. `p` - call the minimizer `p2`. \n",
    "4. repeat 2-3 until nothing changes. \n",
    "\n",
    "**Equilibrium:** The pure strategy Nash equilibrium occurs when both firms are choosing a price that is a best response to the price of the competitor. "
   ]
  },
  {
   "cell_type": "code",
   "execution_count": 4,
   "metadata": {},
   "outputs": [
    {
     "name": "stderr",
     "output_type": "stream",
     "text": [
      "/Users/mrz577/opt/anaconda3/lib/python3.9/site-packages/numpy/core/fromnumeric.py:86: VisibleDeprecationWarning: Creating an ndarray from ragged nested sequences (which is a list-or-tuple of lists-or-tuples-or ndarrays with different lengths or shapes) is deprecated. If you meant to do this, you must specify 'dtype=object' when creating the ndarray.\n",
      "  return ufunc.reduce(obj, axis, dtype, out, **passkwargs)\n"
     ]
    },
    {
     "data": {
      "text/plain": [
       "1.2316572060225797"
      ]
     },
     "execution_count": 4,
     "metadata": {},
     "output_type": "execute_result"
    }
   ],
   "source": [
    "p1 = np.array([.6]) # initial guess (as a vector (of length 1))\n",
    "f_ = lambda p: -profit1(p, p2) # anonymous function of one variable\n",
    "res = minimize(f_, x0=p1)\n",
    "p1 = res.x[0]\n",
    "p1"
   ]
  },
  {
   "cell_type": "code",
   "execution_count": 5,
   "metadata": {},
   "outputs": [
    {
     "name": "stdout",
     "output_type": "stream",
     "text": [
      "BR1(p2= 2.00) =  1.23\n"
     ]
    }
   ],
   "source": [
    "p1 = res['x'][0]\n",
    "print(f'BR1(p2={p2:5.2f}) = {p1:5.2f}')"
   ]
  },
  {
   "cell_type": "code",
   "execution_count": 6,
   "metadata": {},
   "outputs": [
    {
     "name": "stdout",
     "output_type": "stream",
     "text": [
      "BR2(p1= 1.23) =  1.11\n"
     ]
    }
   ],
   "source": [
    "f_ = lambda p: -profit2(p, p1)\n",
    "res = minimize(f_, x0=p2)\n",
    "p2 = res['x'][0]\n",
    "print(f'BR2(p1={p1:5.2f}) = {p2:5.2f}')"
   ]
  },
  {
   "cell_type": "markdown",
   "metadata": {},
   "source": [
    "Now, we have taken the first two steps in the **iterated best response algorithm**. Continuing is left as an exercise to you. "
   ]
  },
  {
   "cell_type": "markdown",
   "metadata": {},
   "source": [
    "# Nash Best Response Fixed Point\n",
    "\n",
    "One method for solving for the Nash Equilibrium is based on `fsolve`, which solves a nonlinear system of equations. In that case, the system is \n",
    "$$\n",
    "\\begin{align*}\n",
    "BR_1(p_2)-p_1 = 0 \\\\\n",
    "BR_2(p_1)-p_2 = 0 \\\\\n",
    "\\end{align*}\n",
    "$$\n",
    "\n",
    "This requires you to code up a vector-valued function, $BR : \\mathbb{R}^2 \\to \\mathbb{R}^2$, e.g. `BR(p)`, and then to call \n",
    "\n",
    "```Python\n",
    "p = fsolve(BR, p) # this may fail!\n",
    "```\n",
    "\n",
    "While this is seemingly what we want, it may fail! The reason is that we have a numerical optimizer on the outside and another numerical optimizer on the inside. Therefore, we are forced to think carefully about the optimal *step sizes*. \n",
    "\n",
    "**The solution:** Use a more *coarse* (i.e. larger) step size on the outside. \n",
    "\n",
    "```Python\n",
    "p = fsolve(BR, p, epsfcn=1e-4) # this will be more robust\n",
    "```\n",
    "\n",
    "**Why?** It's because the default step size (used for numerical gradients) is chosen to work well in a \"nicely behaved\" setting. But if we are taking a step size of something nested that itself already has numerical error (because it also uses a step size), then the optimal choice of step size is affected. So the inner loop can use default step size, but the outer loop must account for the fact that the problem is more noisy. "
   ]
  },
  {
   "cell_type": "code",
   "execution_count": 7,
   "metadata": {},
   "outputs": [],
   "source": [
    "def BR1(p2): \n",
    "    # fill in \n",
    "    return p1\n",
    "\n",
    "def BR2(p1): \n",
    "    # fill in \n",
    "    return p2\n",
    "\n",
    "def BR(p): \n",
    "    p1, p2 = p # unpack 2-vector \n",
    "    # fill in \n",
    "    return p_new\n",
    "\n"
   ]
  },
  {
   "cell_type": "code",
   "execution_count": 8,
   "metadata": {},
   "outputs": [],
   "source": [
    "# the fixed point mapping: if f(p) returns zeros, we have a Nash Equilibrium\n",
    "f = lambda p: BR(p) - p"
   ]
  },
  {
   "cell_type": "markdown",
   "metadata": {},
   "source": [
    "This calls `fsolve` without changing the step size. "
   ]
  },
  {
   "cell_type": "code",
   "execution_count": 9,
   "metadata": {},
   "outputs": [
    {
     "data": {
      "text/plain": [
       "array([1.06391301, 1.06391301])"
      ]
     },
     "execution_count": 9,
     "metadata": {},
     "output_type": "execute_result"
    }
   ],
   "source": [
    "p0 = np.array([.5,.5])\n",
    "fsolve(f, p0)"
   ]
  },
  {
   "cell_type": "markdown",
   "metadata": {},
   "source": [
    "This calls `fsolve` with a larger step size"
   ]
  },
  {
   "cell_type": "code",
   "execution_count": 12,
   "metadata": {},
   "outputs": [
    {
     "name": "stderr",
     "output_type": "stream",
     "text": [
      "/Users/mrz577/opt/anaconda3/lib/python3.9/site-packages/numpy/core/fromnumeric.py:86: VisibleDeprecationWarning: Creating an ndarray from ragged nested sequences (which is a list-or-tuple of lists-or-tuples-or ndarrays with different lengths or shapes) is deprecated. If you meant to do this, you must specify 'dtype=object' when creating the ndarray.\n",
      "  return ufunc.reduce(obj, axis, dtype, out, **passkwargs)\n"
     ]
    },
    {
     "data": {
      "text/plain": [
       "array([1.06391301, 1.06391301])"
      ]
     },
     "execution_count": 12,
     "metadata": {},
     "output_type": "execute_result"
    }
   ],
   "source": [
    "pNE = fsolve(f, p0, epsfcn=1e-4)\n",
    "pNE"
   ]
  },
  {
   "cell_type": "markdown",
   "metadata": {},
   "source": [
    "And now we can plot the two best response functions together. "
   ]
  },
  {
   "cell_type": "code",
   "execution_count": 16,
   "metadata": {},
   "outputs": [
    {
     "name": "stderr",
     "output_type": "stream",
     "text": [
      "/Users/mrz577/opt/anaconda3/lib/python3.9/site-packages/numpy/core/fromnumeric.py:86: VisibleDeprecationWarning: Creating an ndarray from ragged nested sequences (which is a list-or-tuple of lists-or-tuples-or ndarrays with different lengths or shapes) is deprecated. If you meant to do this, you must specify 'dtype=object' when creating the ndarray.\n",
      "  return ufunc.reduce(obj, axis, dtype, out, **passkwargs)\n"
     ]
    },
    {
     "data": {
      "image/png": "[encoded data removed]",
      "text/plain": [
       "<Figure size 432x288 with 1 Axes>"
      ]
     },
     "metadata": {
      "needs_background": "light"
     },
     "output_type": "display_data"
    }
   ],
   "source": [
    "pp = np.linspace(c, 2., 100) # pick some price grid that makes sense...\n",
    "bb1 = [BR1(p2) for p2 in pp]\n",
    "bb2 = [BR2(p1) for p1 in pp]\n",
    "plt.plot(pp, bb2, label=f'BR2');\n",
    "plt.plot(bb1, pp, label=f'BR1');\n",
    "plt.plot(pNE[0], pNE[1], 'or', label='NE');\n",
    "plt.legend();"
   ]
  }
 ],
 "metadata": {
  "interpreter": {
   "hash": "2f28796849cc7d0dfb7168fb91405d73a8cccecd280e63fee6edce8a728c9dcc"
  },
  "kernelspec": {
   "display_name": "Python 3.9.7 ('base')",
   "language": "python",
   "name": "python3"
  },
  "language_info": {
   "codemirror_mode": {
    "name": "ipython",
    "version": 3
   },
   "file_extension": ".py",
   "mimetype": "text/x-python",
   "name": "python",
   "nbconvert_exporter": "python",
   "pygments_lexer": "ipython3",
   "version": "3.9.7"
  }
 },
 "nbformat": 4,
 "nbformat_minor": 4
}
