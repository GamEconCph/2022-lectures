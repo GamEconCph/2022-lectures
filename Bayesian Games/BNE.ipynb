{
 "cells": [
  {
   "cell_type": "markdown",
   "metadata": {},
   "source": [
    "# Bayesian Nash Equilibrium in double bi-matrix games\n",
    "\n",
    "This notebook introduces a solution method suggested by William Spaniel for analyzing bimatrix games where one of the players can have multiple types in this video: https://youtu.be/E0_CA9TwZ8c. It is recommended to check the video out in order to fully understand how and why the method works."
   ]
  },
  {
   "cell_type": "code",
   "execution_count": 1,
   "metadata": {},
   "outputs": [],
   "source": [
    "import pandas as pd \n",
    "import numpy as np \n",
    "import itertools\n",
    "import nashpy\n",
    "import bimatrix"
   ]
  },
  {
   "cell_type": "markdown",
   "metadata": {},
   "source": [
    "Player types \n",
    "* Player 1: always a stag hunt type, \n",
    "* Player 2: with prob. `p`, she is PD, and `1-p`, she is SH. \n",
    "\n",
    "Payoffs: a payoff matrix *list* for each player: one payoff matrix for each type that player 2 can have. "
   ]
  },
  {
   "cell_type": "code",
   "execution_count": 8,
   "metadata": {},
   "outputs": [],
   "source": [
    "def compute_full_matrix(U1, U2, p, action_names=None): \n",
    "    '''\n",
    "        Assumes that only player 2's type varies \n",
    "        (this means that player 1 has one action per row in U1, \n",
    "         while 2 has nA2**2 (one choice per type))\n",
    "        Both players have one utility matrix for each realization \n",
    "        of player 2's type. \n",
    "         \n",
    "        INPUTS: \n",
    "            U1: list of 2 payoff matrices for player 1 (row player)\n",
    "            U2: list of 2 payoff matrices for player 2 (column player)\n",
    "            p: (scalar) Probability that player 2 is the first type \n",
    "            action_names: [optional] 2-list of names of actions (nA1 and nA2 long)\n",
    "        OUTPUTS: \n",
    "            t1, t2: wide-form payoff matrices suitable for finding the NE \n",
    "            A1, A2: names of actions \n",
    "    '''\n",
    "    assert len(U1) == 2\n",
    "    assert len(U2) == 2 \n",
    "    assert np.isscalar(p)\n",
    "    nA1, nA2 = U1[0].shape\n",
    "    \n",
    "    t1 = np.empty((nA1, nA2*nA2))\n",
    "    t2 = np.empty((nA1, nA2*nA2))\n",
    "    \n",
    "    # player 1 chooses an action without knowing what type 2 is \n",
    "    for ia1 in range(nA1): \n",
    "        i_col = 0 \n",
    "        \n",
    "        # player 2 chooses an action conditional on observing her type \n",
    "        for a2_1 in range(nA2): \n",
    "            for a2_2 in range(nA2): \n",
    "                t1[ia1,i_col] = p * U1[0][ia1,a2_1] + (1.-p) * U1[1][ia1,a2_2]\n",
    "                t2[ia1,i_col] = p * U2[0][ia1,a2_1] + (1.-p) * U2[1][ia1,a2_2]\n",
    "                \n",
    "                i_col += 1\n",
    "                \n",
    "    if action_names is None: \n",
    "        A1 = [f'{i}' for i in range(nA1)]\n",
    "        A2 = [f'{a}{b}' for a in range(nA2) for b in range(nA2)]\n",
    "    else: \n",
    "        assert len(action_names) == 2 \n",
    "        A1 = action_names[0]\n",
    "        assert len(A1) == nA1, f'Incorrect # of action names'\n",
    "        a2 = action_names[1]\n",
    "        assert len(a2) == nA2, f'Incorrect # of action names'\n",
    "        \n",
    "        A2 = [f'{a}{b}' for a in a2 for b in a2]\n",
    "        \n",
    "    return t1, t2, A1, A2"
   ]
  },
  {
   "cell_type": "markdown",
   "metadata": {},
   "source": [
    "# Spaniel's example\n",
    "\n",
    "* Player 1 just has one type and receives Stag Hunt payoffs regardless \n",
    "* Player 2 can be two types: Prisonner's Dilemma type (probability 0.2) or Stag Hunt type (probability 0.8). "
   ]
  },
  {
   "cell_type": "code",
   "execution_count": 2,
   "metadata": {},
   "outputs": [],
   "source": [
    "# Pr(player 2 is the PD type)\n",
    "p = 0.2\n",
    "\n",
    "# player 1 \n",
    "u1  = np.array([[3,0], [2,1]])\n",
    "U1 = [u1, u1] # player 1 has same payoffs regardless of 2's type \n",
    "A1 = ['U', 'D']\n",
    "\n",
    "# player 2\n",
    "u21 = np.array([[3,4],[1,2]]) # prisonner's dilemma \n",
    "u22 = np.array([[3,2],[0,1]]) # stag hunt \n",
    "U2 = [u21, u22]\n",
    "a2 = ['L', 'R']\n",
    "A2 = [f'{a}{b}' for a in a2 for b in a2]"
   ]
  },
  {
   "cell_type": "code",
   "execution_count": 3,
   "metadata": {},
   "outputs": [
    {
     "name": "stdout",
     "output_type": "stream",
     "text": [
      "--- If P2 is type 0 ---\n"
     ]
    },
    {
     "data": {
      "text/html": [
       "<div>\n",
       "<style scoped>\n",
       "    .dataframe tbody tr th:only-of-type {\n",
       "        vertical-align: middle;\n",
       "    }\n",
       "\n",
       "    .dataframe tbody tr th {\n",
       "        vertical-align: top;\n",
       "    }\n",
       "\n",
       "    .dataframe thead th {\n",
       "        text-align: right;\n",
       "    }\n",
       "</style>\n",
       "<table border=\"1\" class=\"dataframe\">\n",
       "  <thead>\n",
       "    <tr style=\"text-align: right;\">\n",
       "      <th></th>\n",
       "      <th>L</th>\n",
       "      <th>R</th>\n",
       "    </tr>\n",
       "  </thead>\n",
       "  <tbody>\n",
       "    <tr>\n",
       "      <th>U</th>\n",
       "      <td>(3, 3)</td>\n",
       "      <td>(0, 4)</td>\n",
       "    </tr>\n",
       "    <tr>\n",
       "      <th>D</th>\n",
       "      <td>(2, 1)</td>\n",
       "      <td>(1, 2)</td>\n",
       "    </tr>\n",
       "  </tbody>\n",
       "</table>\n",
       "</div>"
      ],
      "text/plain": [
       "        L       R\n",
       "U  (3, 3)  (0, 4)\n",
       "D  (2, 1)  (1, 2)"
      ]
     },
     "execution_count": 3,
     "metadata": {},
     "output_type": "execute_result"
    }
   ],
   "source": [
    "print(f'--- If P2 is type 0 ---')\n",
    "bimatrix.print_payoffs([u1, u21], [A1, a2])"
   ]
  },
  {
   "cell_type": "code",
   "execution_count": 4,
   "metadata": {},
   "outputs": [
    {
     "name": "stdout",
     "output_type": "stream",
     "text": [
      "--- If P2 is type 1 ---\n"
     ]
    },
    {
     "data": {
      "text/html": [
       "<div>\n",
       "<style scoped>\n",
       "    .dataframe tbody tr th:only-of-type {\n",
       "        vertical-align: middle;\n",
       "    }\n",
       "\n",
       "    .dataframe tbody tr th {\n",
       "        vertical-align: top;\n",
       "    }\n",
       "\n",
       "    .dataframe thead th {\n",
       "        text-align: right;\n",
       "    }\n",
       "</style>\n",
       "<table border=\"1\" class=\"dataframe\">\n",
       "  <thead>\n",
       "    <tr style=\"text-align: right;\">\n",
       "      <th></th>\n",
       "      <th>L</th>\n",
       "      <th>R</th>\n",
       "    </tr>\n",
       "  </thead>\n",
       "  <tbody>\n",
       "    <tr>\n",
       "      <th>U</th>\n",
       "      <td>(3, 3)</td>\n",
       "      <td>(0, 2)</td>\n",
       "    </tr>\n",
       "    <tr>\n",
       "      <th>D</th>\n",
       "      <td>(2, 0)</td>\n",
       "      <td>(1, 1)</td>\n",
       "    </tr>\n",
       "  </tbody>\n",
       "</table>\n",
       "</div>"
      ],
      "text/plain": [
       "        L       R\n",
       "U  (3, 3)  (0, 2)\n",
       "D  (2, 0)  (1, 1)"
      ]
     },
     "execution_count": 4,
     "metadata": {},
     "output_type": "execute_result"
    }
   ],
   "source": [
    "print(f'--- If P2 is type 1 ---')\n",
    "bimatrix.print_payoffs([u1, u22], [A1, a2])"
   ]
  },
  {
   "cell_type": "markdown",
   "metadata": {},
   "source": [
    "## Wide form\n",
    "We first convert the game to wide matrix form "
   ]
  },
  {
   "cell_type": "code",
   "execution_count": 9,
   "metadata": {},
   "outputs": [],
   "source": [
    "t1, t2, A1, A2 = compute_full_matrix(U1, U2, p, [A1, a2])"
   ]
  },
  {
   "cell_type": "code",
   "execution_count": 10,
   "metadata": {},
   "outputs": [
    {
     "data": {
      "text/html": [
       "<div>\n",
       "<style scoped>\n",
       "    .dataframe tbody tr th:only-of-type {\n",
       "        vertical-align: middle;\n",
       "    }\n",
       "\n",
       "    .dataframe tbody tr th {\n",
       "        vertical-align: top;\n",
       "    }\n",
       "\n",
       "    .dataframe thead th {\n",
       "        text-align: right;\n",
       "    }\n",
       "</style>\n",
       "<table border=\"1\" class=\"dataframe\">\n",
       "  <thead>\n",
       "    <tr style=\"text-align: right;\">\n",
       "      <th></th>\n",
       "      <th>LL</th>\n",
       "      <th>LR</th>\n",
       "      <th>RL</th>\n",
       "      <th>RR</th>\n",
       "    </tr>\n",
       "  </thead>\n",
       "  <tbody>\n",
       "    <tr>\n",
       "      <th>U</th>\n",
       "      <td>(3.0, 3.0)</td>\n",
       "      <td>(0.6, 2.2)</td>\n",
       "      <td>(2.4, 3.2)</td>\n",
       "      <td>(0.0, 2.4)</td>\n",
       "    </tr>\n",
       "    <tr>\n",
       "      <th>D</th>\n",
       "      <td>(2.0, 0.2)</td>\n",
       "      <td>(1.2, 1.0)</td>\n",
       "      <td>(1.8, 0.4)</td>\n",
       "      <td>(1.0, 1.2)</td>\n",
       "    </tr>\n",
       "  </tbody>\n",
       "</table>\n",
       "</div>"
      ],
      "text/plain": [
       "           LL          LR          RL          RR\n",
       "U  (3.0, 3.0)  (0.6, 2.2)  (2.4, 3.2)  (0.0, 2.4)\n",
       "D  (2.0, 0.2)  (1.2, 1.0)  (1.8, 0.4)  (1.0, 1.2)"
      ]
     },
     "execution_count": 10,
     "metadata": {},
     "output_type": "execute_result"
    }
   ],
   "source": [
    "bimatrix.print_payoffs([t1, t2], [A1,  A2], 3)"
   ]
  },
  {
   "cell_type": "markdown",
   "metadata": {},
   "source": [
    "## Removing strictly dominated strategies\n",
    "\n",
    "Looking for strictly dominated strategies: we know that if P2 is the Prisonner's Dilemma type, playing $R$ should be a strictly dominating strategy (defecting). And this comes out of running IESDS on the wide-form matrix representation of the game. "
   ]
  },
  {
   "cell_type": "code",
   "execution_count": 14,
   "metadata": {},
   "outputs": [
    {
     "name": "stdout",
     "output_type": "stream",
     "text": [
      "Player 2: LL is dominated by RL\n",
      "Player 2: LR is dominated by RR\n"
     ]
    }
   ],
   "source": [
    "A_, T_ = bimatrix.IESDS([A1, A2], [t1, t2], DOPRINT=True)"
   ]
  },
  {
   "cell_type": "markdown",
   "metadata": {},
   "source": [
    "Since those actions were strictly dominated, it suffices to focus on this reduced version of the game. "
   ]
  },
  {
   "cell_type": "code",
   "execution_count": 15,
   "metadata": {},
   "outputs": [
    {
     "data": {
      "text/html": [
       "<div>\n",
       "<style scoped>\n",
       "    .dataframe tbody tr th:only-of-type {\n",
       "        vertical-align: middle;\n",
       "    }\n",
       "\n",
       "    .dataframe tbody tr th {\n",
       "        vertical-align: top;\n",
       "    }\n",
       "\n",
       "    .dataframe thead th {\n",
       "        text-align: right;\n",
       "    }\n",
       "</style>\n",
       "<table border=\"1\" class=\"dataframe\">\n",
       "  <thead>\n",
       "    <tr style=\"text-align: right;\">\n",
       "      <th></th>\n",
       "      <th>RL</th>\n",
       "      <th>RR</th>\n",
       "    </tr>\n",
       "  </thead>\n",
       "  <tbody>\n",
       "    <tr>\n",
       "      <th>U</th>\n",
       "      <td>(2.4, 3.2)</td>\n",
       "      <td>(0.0, 2.4)</td>\n",
       "    </tr>\n",
       "    <tr>\n",
       "      <th>D</th>\n",
       "      <td>(1.8, 0.4)</td>\n",
       "      <td>(1.0, 1.2)</td>\n",
       "    </tr>\n",
       "  </tbody>\n",
       "</table>\n",
       "</div>"
      ],
      "text/plain": [
       "           RL          RR\n",
       "U  (2.4, 3.2)  (0.0, 2.4)\n",
       "D  (1.8, 0.4)  (1.0, 1.2)"
      ]
     },
     "execution_count": 15,
     "metadata": {},
     "output_type": "execute_result"
    }
   ],
   "source": [
    "bimatrix.print_payoffs(T_, A_, 3)"
   ]
  },
  {
   "cell_type": "markdown",
   "metadata": {},
   "source": [
    "## Solving \n",
    "Now we simply call a game theory solver to find all equilibria of the game. "
   ]
  },
  {
   "cell_type": "code",
   "execution_count": 16,
   "metadata": {},
   "outputs": [
    {
     "name": "stdout",
     "output_type": "stream",
     "text": [
      "Found 3 equilibria\n",
      "1: s1 = [1. 0.], s2 = [1. 0.]\n",
      "2: s1 = [0. 1.], s2 = [0. 1.]\n",
      "3: s1 = [0.5 0.5], s2 = [0.625 0.375]\n"
     ]
    }
   ],
   "source": [
    "eqs = list(nashpy.Game(T_[0], T_[1]).support_enumeration())\n",
    "print(f'Found {len(eqs)} equilibria')\n",
    "for i,eq in enumerate(eqs): \n",
    "    print(f'{i+1}: s1 = {eq[0]}, s2 = {eq[1]}')"
   ]
  },
  {
   "cell_type": "markdown",
   "metadata": {},
   "source": [
    "## A warning: calling `nashpy` on the full game\n",
    "\n",
    "Interestingly, it  seems that the nashpy `support_enumeration` is getting confused if we provide it the full game as opposed to eliminating strictly dominated strategies beforehand. "
   ]
  },
  {
   "cell_type": "code",
   "execution_count": 17,
   "metadata": {},
   "outputs": [
    {
     "name": "stdout",
     "output_type": "stream",
     "text": [
      "Found 2 equilibria\n",
      "1: s1 = [1. 0.], s2 = [0. 0. 1. 0.]\n",
      "2: s1 = [0. 1.], s2 = [0. 0. 0. 1.]\n"
     ]
    },
    {
     "name": "stderr",
     "output_type": "stream",
     "text": [
      "/Users/mrz577/opt/anaconda3/lib/python3.8/site-packages/nashpy/algorithms/support_enumeration.py:196: RuntimeWarning: \n",
      "An even number of (2) equilibria was returned. This\n",
      "indicates that the game is degenerate. Consider using another algorithm\n",
      "to investigate.\n",
      "                  \n",
      "  warnings.warn(warning, RuntimeWarning)\n"
     ]
    }
   ],
   "source": [
    "G = nashpy.Game(t1, t2)\n",
    "\n",
    "eqs = list(G.support_enumeration())\n",
    "print(f'Found {len(eqs)} equilibria')\n",
    "for i,eq in enumerate(eqs): \n",
    "    print(f'{i+1}: s1 = {eq[0]}, s2 = {eq[1]}')"
   ]
  }
 ],
 "metadata": {
  "kernelspec": {
   "display_name": "Python 3",
   "language": "python",
   "name": "python3"
  },
  "language_info": {
   "codemirror_mode": {
    "name": "ipython",
    "version": 3
   },
   "file_extension": ".py",
   "mimetype": "text/x-python",
   "name": "python",
   "nbconvert_exporter": "python",
   "pygments_lexer": "ipython3",
   "version": "3.8.2"
  }
 },
 "nbformat": 4,
 "nbformat_minor": 4
}
